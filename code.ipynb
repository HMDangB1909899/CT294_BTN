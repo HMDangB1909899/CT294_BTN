{
 "cells": [
  {
   "cell_type": "code",
   "execution_count": 12,
   "metadata": {},
   "outputs": [],
   "source": [
    "import pandas as pd\n",
    "import numpy as np\n",
    "from sklearn.model_selection import train_test_split\n",
    "from sklearn.metrics import confusion_matrix\n",
    "from sklearn.metrics import accuracy_score\n",
    "from sklearn.naive_bayes import GaussianNB\n",
    "from sklearn.ensemble import RandomForestClassifier\n",
    "from sklearn.tree import DecisionTreeClassifier"
   ]
  },
  {
   "attachments": {},
   "cell_type": "markdown",
   "metadata": {},
   "source": [
    "## Đọc dữ liệu"
   ]
  },
  {
   "cell_type": "code",
   "execution_count": 13,
   "metadata": {},
   "outputs": [],
   "source": [
    "df = pd.read_csv('data.csv',delimiter=',')\n",
    "\n",
    "X = df.drop('class', axis=1)\n",
    "X=(X-X.min())/(X.max()-X.min()) #Chuẩn hoá dữ liệu\n",
    "y = df['class']\n",
    "X=X.values\n",
    "y=y.values\n",
    "X_train, X_test, y_train, y_test = train_test_split(X, y, test_size=0.3, random_state=5)"
   ]
  },
  {
   "attachments": {},
   "cell_type": "markdown",
   "metadata": {},
   "source": [
    "## Các giải thuật"
   ]
  },
  {
   "attachments": {},
   "cell_type": "markdown",
   "metadata": {},
   "source": [
    "### Bayes"
   ]
  },
  {
   "cell_type": "code",
   "execution_count": 14,
   "metadata": {},
   "outputs": [
    {
     "name": "stdout",
     "output_type": "stream",
     "text": [
      "[[3354  311]\n",
      " [1310  731]]\n",
      "Độ chính xác thuật toán Bayes: 0.715913073957238\n"
     ]
    }
   ],
   "source": [
    "#Huấn luyện mô hình\n",
    "nb = GaussianNB()\n",
    "nb.fit(X_train, y_train)\n",
    "\n",
    "#Ma trận nhầm lẫn\n",
    "thucte= y_test\n",
    "dubao= nb.predict(X_test)\n",
    "mtx=confusion_matrix(thucte,dubao)\n",
    "print(mtx)\n",
    "\n",
    "#Độ chính xác mô hình\n",
    "y_pred_nb = nb.predict(X_test)\n",
    "accuracy_nb = accuracy_score(y_test, y_pred_nb)\n",
    "print(\"Độ chính xác thuật toán Bayes:\", accuracy_nb)"
   ]
  },
  {
   "attachments": {},
   "cell_type": "markdown",
   "metadata": {},
   "source": [
    "### Cây quyết định"
   ]
  },
  {
   "cell_type": "code",
   "execution_count": 15,
   "metadata": {},
   "outputs": [
    {
     "name": "stdout",
     "output_type": "stream",
     "text": [
      "[[3139  526]\n",
      " [ 512 1529]]\n",
      "Độ chính xác cây quyết định: 0.8180862250262881\n"
     ]
    }
   ],
   "source": [
    "# Xây dựng mô hình Decision Tree và huấn luyện trên tập huấn luyện\n",
    "clf = DecisionTreeClassifier(random_state=5)\n",
    "clf.fit(X_train, y_train)\n",
    "\n",
    "#Ma trận nhầm lẫn\n",
    "thucte= y_test\n",
    "dubao= clf.predict(X_test)\n",
    "mtx=confusion_matrix(thucte,dubao)\n",
    "print(mtx)\n",
    "\n",
    "# Đánh giá mô hình trên tập kiểm tra\n",
    "y_pred = clf.predict(X_test)\n",
    "accuracy = accuracy_score(y_test, y_pred)\n",
    "print(\"Độ chính xác cây quyết định:\", accuracy)"
   ]
  },
  {
   "attachments": {},
   "cell_type": "markdown",
   "metadata": {},
   "source": [
    "### Rừng ngẫu nhiên"
   ]
  },
  {
   "cell_type": "code",
   "execution_count": 16,
   "metadata": {},
   "outputs": [
    {
     "name": "stdout",
     "output_type": "stream",
     "text": [
      "[[3441  224]\n",
      " [ 519 1522]]\n",
      "Độ chính xác thuật toán rừng ngẫu nhiên: 0.8697861899754644\n"
     ]
    }
   ],
   "source": [
    "# Huấn luyện mô hình rừng ngẫu nhiên\n",
    "rf = RandomForestClassifier(n_estimators=100, max_depth=None, random_state=0)\n",
    "rf.fit(X_train, y_train)\n",
    "\n",
    "thucte= y_test\n",
    "dubao= rf.predict(X_test)\n",
    "mtx=confusion_matrix(thucte,dubao)\n",
    "print(mtx)\n",
    "\n",
    "y_pred_rf = rf.predict(X_test)\n",
    "accuracy_rf = accuracy_score(y_test, y_pred_rf)\n",
    "print(\"Độ chính xác thuật toán rừng ngẫu nhiên:\", accuracy_rf)"
   ]
  }
 ],
 "metadata": {
  "kernelspec": {
   "display_name": "Python 3",
   "language": "python",
   "name": "python3"
  },
  "language_info": {
   "codemirror_mode": {
    "name": "ipython",
    "version": 3
   },
   "file_extension": ".py",
   "mimetype": "text/x-python",
   "name": "python",
   "nbconvert_exporter": "python",
   "pygments_lexer": "ipython3",
   "version": "3.11.2"
  },
  "orig_nbformat": 4
 },
 "nbformat": 4,
 "nbformat_minor": 2
}
